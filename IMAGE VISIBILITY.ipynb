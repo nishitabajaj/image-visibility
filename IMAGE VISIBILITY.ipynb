{
 "cells": [
  {
   "cell_type": "code",
   "execution_count": 1,
   "metadata": {},
   "outputs": [],
   "source": [
    "import cv2\n",
    "import numpy as np"
   ]
  },
  {
   "cell_type": "code",
   "execution_count": 4,
   "metadata": {},
   "outputs": [],
   "source": [
    "imag1 = cv2.imread(\"C:\\\\Users\\\\Nishita Bajaj\\\\OneDrive\\\\Desktop\\\\trees.jpg\")\n",
    "imag2 = cv2.imread(\"C:\\\\Users\\\\Nishita Bajaj\\\\OneDrive\\\\Desktop\\\\greenimage.jpg\")\n",
    "\n",
    "imag1 = cv2.resize(imag1, (650,500))\n",
    "imag2 = cv2.resize(imag2, (650,500))\n",
    "\n",
    "hsv = cv2.cvtColor(imag1, cv2.COLOR_BGR2HSV)\n",
    "l_g = np.array([35,40,65])\n",
    "u_g = np.array([120,255,0])\n",
    "\n",
    "mask = cv2.inRange(hsv,l_g,u_g)\n",
    "final_val = cv2.bitwise_and(imag2,imag2, mask = mask)\n",
    "resultant = imag2 - final_val\n",
    "\n",
    "cv2.imshow(\"Image\",imag1)\n",
    "cv2.imshow(\"Result\", resultant)\n",
    "\n",
    "cv2.waitKey(0)\n",
    "cv2.destroyAllWindows()"
   ]
  }
 ],
 "metadata": {
  "kernelspec": {
   "display_name": "Python 3.10.8 64-bit",
   "language": "python",
   "name": "python3"
  },
  "language_info": {
   "codemirror_mode": {
    "name": "ipython",
    "version": 3
   },
   "file_extension": ".py",
   "mimetype": "text/x-python",
   "name": "python",
   "nbconvert_exporter": "python",
   "pygments_lexer": "ipython3",
   "version": "3.10.8"
  },
  "orig_nbformat": 4,
  "vscode": {
   "interpreter": {
    "hash": "a94823875d16f8652f42c8acb2fa1e710c6b0d6ac0bb34721edeb626e7d0625c"
   }
  }
 },
 "nbformat": 4,
 "nbformat_minor": 2
}
